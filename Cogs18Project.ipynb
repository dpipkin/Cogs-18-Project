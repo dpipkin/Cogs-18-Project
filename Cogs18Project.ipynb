{
 "cells": [
  {
   "cell_type": "markdown",
   "metadata": {},
   "source": [
    "Project Description\n",
    "\n",
    "For my project I wanted to make a program to help me make decisions regarding food and drink (something I always have a problem with). When I'm on campus it's hard to decide what drink or food to get. Sometimes I want something without caffeiene, sometimes I want something light, and so on. It's also hard to decide where to get food. I'm getting tired of the options from eating here so often, so it's easier if I can narrow down the choices. From there, I got the idea for a program to suggest what I should get based on what I want out of the drink or food. The design is kind of specific to me. The dictionaries are based on what drinks I like to get and where I like to eat/what I get there usually. I used functions that checked the dictionaries for the item that matched what I wanted. For the drink, I chose caffiene content (o is low 1 is high), creamy or light, what price I want (0 is cheaper 1 is expensive), and whether it should be hot or iced depending on the weather. For the restuarant, I based it on whether my usual dish has strong or mild flavors, a big or small portion size, the price (0 is under 8 dollars 1 is over 8 dollars), and whether it is in Price Center (PC) or not (not in PC). \n"
   ]
  },
  {
   "cell_type": "code",
   "execution_count": 1,
   "metadata": {},
   "outputs": [
    {
     "data": {
      "text/plain": [
       "['iced latte', 'iced matcha latte', 'iced chai latte']"
      ]
     },
     "execution_count": 1,
     "metadata": {},
     "output_type": "execute_result"
    }
   ],
   "source": [
    "#This is the drink dictionary with the inputs associated with each (caffeine, type (creamy or light), price)\n",
    "drink_dict ={'latte':(1,'creamy',1),'decaf latte':(0,'creamy',1),'green tea':(0,'light',0),\\\n",
    "             'black tea':(1, 'light',0),'coffee':(1, 'creamy',0), 'decaf coffee':(0, 'creamy',0),\\\n",
    "             'matcha latte':(1, 'creamy',1), 'chai latte':(1, 'creamy',1)}\n",
    "\n",
    "#Below is a function that takes the temperature given and outputs hot or iced if it is below a certain temp\n",
    "def hot_or_iced(outside_temp):\n",
    "    '''Recommends hot or iced based on input temp \n",
    "\n",
    "    Parameters\n",
    "    ----------\n",
    "    input: float\n",
    "    Outside temp input by user  \n",
    "    \n",
    "    Returns\n",
    "    -------\n",
    "    hot or iced: string\n",
    "        Depending on outside temp'''\n",
    "    \n",
    "    if outside_temp < 55:\n",
    "        return 'hot'\n",
    "    else: \n",
    "        return 'iced'\n",
    "    \n",
    "#Below is a function that takes what you want in a drink and checks which item(s) in the dictionary match            \n",
    "def recommend_drinks (outside_temp, kind_want, caffeine_want, price_want):\n",
    "    '''Recommends drink(s) based on inputs \n",
    "\n",
    "    Parameters\n",
    "    ----------\n",
    "    inputs: float, string, int, int\n",
    "        Outside temp input \n",
    "        String for kind of drink wanted\n",
    "        Int representing caffeine content wanted\n",
    "        Int representing price wanted\n",
    "    \n",
    "    Returns\n",
    "    -------\n",
    "    drink from drink_dict: string\n",
    "        Depending on inputs given'''\n",
    "    recommend_temp = hot_or_iced (outside_temp)\n",
    "    output = []\n",
    "    for drink in drink_dict:\n",
    "        (caffeine, kind, price)= drink_dict [drink]\n",
    "        if caffeine == caffeine_want and kind== kind_want and price==price_want:\n",
    "            output.append (recommend_temp + ' '+ drink)         \n",
    "    return output \n",
    "    \n",
    "    \n",
    "recommend_drinks(68, 'creamy', 1, 1)"
   ]
  },
  {
   "cell_type": "code",
   "execution_count": 2,
   "metadata": {},
   "outputs": [
    {
     "data": {
      "text/plain": [
       "['sunshine market', 'tap ex']"
      ]
     },
     "execution_count": 2,
     "metadata": {},
     "output_type": "execute_result"
    }
   ],
   "source": [
    "#This is the restaurant dictionary with the inputs associated with each (flavor size, price, location)\n",
    "restaurant_dict = {'lemongrass':('strong','big',1,'PC'),'panda express':('mild','big',0,'PC'),\\\n",
    "                   'sunshine market':('mild','small',0,'PC'),'santorini':('strong','big',1,'PC'),\\\n",
    "                   'tap ex':('mild','small',0,'PC'),'seed n sprout':('strong','big',1,'PC'),\\\n",
    "                   'bombay coast':('strong','big',0,'PC'),'taco villa':('mild','big',0,'not PC'),\\\n",
    "                   'roots':('strong','small',1,'not PC'),'blue pepper':('strong','small',0,'not PC')}\n",
    "\n",
    "#Below is a function that takes what you want from a meal and checks which item(s) in the dictionary match\n",
    "def recommend_restaurant (flavor_want, size_want, price_want, area_want):\n",
    "    '''Recommends restuarant(s) based on inputs \n",
    "\n",
    "    Parameters\n",
    "    ----------\n",
    "    inputs: string, string, int, string\n",
    "        String for mild or strong flavor wanted\n",
    "        String for portion size wanted\n",
    "        Int representing price wanted\n",
    "        String for in Price Center or not\n",
    "    \n",
    "    Returns\n",
    "    -------\n",
    "    place from restaurant_dict: string\n",
    "        Depending on inputs given'''\n",
    "    output =[]\n",
    "    for place in restaurant_dict:\n",
    "        (flavor, size, price, area)= restaurant_dict [place]\n",
    "        if flavor == flavor_want and size==size_want and price==price_want and area==area_want:\n",
    "            output.append (place)\n",
    "    return output\n",
    "\n",
    "recommend_restaurant ('mild', 'small', 0, 'PC')"
   ]
  },
  {
   "cell_type": "code",
   "execution_count": null,
   "metadata": {},
   "outputs": [],
   "source": []
  }
 ],
 "metadata": {
  "kernelspec": {
   "display_name": "Python 3",
   "language": "python",
   "name": "python3"
  },
  "language_info": {
   "codemirror_mode": {
    "name": "ipython",
    "version": 3
   },
   "file_extension": ".py",
   "mimetype": "text/x-python",
   "name": "python",
   "nbconvert_exporter": "python",
   "pygments_lexer": "ipython3",
   "version": "3.6.7"
  }
 },
 "nbformat": 4,
 "nbformat_minor": 2
}
